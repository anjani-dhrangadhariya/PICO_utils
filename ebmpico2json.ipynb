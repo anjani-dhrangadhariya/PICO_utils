{
 "cells": [
  {
   "cell_type": "markdown",
   "id": "232ab10c",
   "metadata": {},
   "source": [
    "# Parse EBM-PICO to JSON"
   ]
  },
  {
   "cell_type": "code",
   "execution_count": 8,
   "id": "a48f03b8",
   "metadata": {},
   "outputs": [],
   "source": [
    "import json\n",
    "import os\n",
    "import glob"
   ]
  },
  {
   "cell_type": "code",
   "execution_count": 25,
   "id": "b2426d32",
   "metadata": {},
   "outputs": [],
   "source": [
    "indir_docs = '/mnt/nas2/data/systematicReview/ebm_nlp_2_00/documents'\n",
    "indir_annots = '/mnt/nas2/data/systematicReview/ebm_nlp_2_00/annotations/aggregated/starting_spans'\n",
    "outdir = '/mnt/nas2/data/systematicReview/PICO_datasets/EBM_parsed'"
   ]
  },
  {
   "cell_type": "code",
   "execution_count": 10,
   "id": "d61e4956",
   "metadata": {},
   "outputs": [],
   "source": [
    "tokens = glob.glob(f'{indir_docs}/*.tokens')\n",
    "pos_tags = glob.glob(f'{indir_docs}/*.pos')"
   ]
  },
  {
   "cell_type": "code",
   "execution_count": 18,
   "id": "be10d157",
   "metadata": {},
   "outputs": [],
   "source": [
    "ebm_pico = dict()"
   ]
  },
  {
   "cell_type": "code",
   "execution_count": 19,
   "id": "3659e117",
   "metadata": {},
   "outputs": [],
   "source": [
    "# Read documents\n",
    "for i, doc in enumerate(tokens):\n",
    "    \n",
    "    inner_dict = dict()\n",
    "    \n",
    "    k = doc.split('/')[-1]\n",
    "    k_i = k.split('.')[0]\n",
    "    lines = list( open(doc, 'r') )\n",
    "    v = [ w.strip() for w in lines ]\n",
    "    ebm_pico[ k_i ] = {} \n",
    "    ebm_pico[ k_i ]['tokens'] = v"
   ]
  },
  {
   "cell_type": "code",
   "execution_count": 20,
   "id": "3155343e",
   "metadata": {},
   "outputs": [],
   "source": [
    "# Read document POS tags\n",
    "for i, doc in enumerate(pos_tags):\n",
    "\n",
    "    inner_dict = dict()\n",
    "\n",
    "    k = doc.split('/')[-1]\n",
    "    k_i = k.split('.')[0]\n",
    "    lines = list( open(doc, 'r') )\n",
    "    v = [ w.strip() for w in lines ]\n",
    "    #ebm_pico[ k_i ] = {}\n",
    "    if k_i in ebm_pico:\n",
    "        ebm_pico[ k_i ]['pos'] = v"
   ]
  },
  {
   "cell_type": "code",
   "execution_count": 22,
   "id": "ac594a9e",
   "metadata": {},
   "outputs": [],
   "source": [
    "# Read document labels\n",
    "for entity in ['participants', 'interventions', 'outcomes']:\n",
    "    \n",
    "    entity_labels = glob.glob(f'{indir_annots}/{entity}/train/*.*')\n",
    "    for i, doc in enumerate(entity_labels):\n",
    "        k = doc.split('/')[-1]\n",
    "        k_i = k.split('.AGGREGATED')[0]\n",
    "        \n",
    "        lines = list( open(doc, 'r') )\n",
    "        v = list(map(lambda s: s.strip(), lines)) \n",
    "        if k_i in ebm_pico:\n",
    "            ebm_pico[ k_i ][entity] = v"
   ]
  },
  {
   "cell_type": "code",
   "execution_count": 27,
   "id": "4c92a5e9",
   "metadata": {},
   "outputs": [],
   "source": [
    "# Write dictionary to the JSON file\n",
    "with open(f'{outdir}/result.json', 'w+') as fp:\n",
    "    json.dump(ebm_pico, fp)"
   ]
  },
  {
   "cell_type": "code",
   "execution_count": null,
   "id": "b5587d29",
   "metadata": {},
   "outputs": [],
   "source": []
  }
 ],
 "metadata": {
  "kernelspec": {
   "display_name": "Python 3",
   "language": "python",
   "name": "python3"
  },
  "language_info": {
   "codemirror_mode": {
    "name": "ipython",
    "version": 3
   },
   "file_extension": ".py",
   "mimetype": "text/x-python",
   "name": "python",
   "nbconvert_exporter": "python",
   "pygments_lexer": "ipython3",
   "version": "3.6.9"
  }
 },
 "nbformat": 4,
 "nbformat_minor": 5
}
